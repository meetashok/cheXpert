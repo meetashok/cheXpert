{
 "cells": [
  {
   "cell_type": "code",
   "execution_count": 1,
   "metadata": {},
   "outputs": [],
   "source": [
    "import torch\n",
    "import os\n",
    "import numpy as np\n",
    "from sklearn.linear_model import RidgeClassifierCV, RidgeClassifier, LogisticRegression, Lasso\n",
    "from sklearn.naive_bayes import GaussianNB\n",
    "from sklearn.ensemble import RandomForestClassifier\n",
    "from sklearn.svm import SVC\n",
    "from sklearn.model_selection import GridSearchCV\n",
    "from sklearn.metrics import roc_auc_score\n",
    "import warnings\n",
    "warnings.filterwarnings(\"ignore\")"
   ]
  },
  {
   "cell_type": "code",
   "execution_count": 2,
   "metadata": {},
   "outputs": [],
   "source": [
    "dir_path = \"C://Users/Ashok/Documents/MS/ensemble/\""
   ]
  },
  {
   "cell_type": "code",
   "execution_count": 3,
   "metadata": {},
   "outputs": [],
   "source": [
    "train_other = torch.load(os.path.join(dir_path, \"ensemble_train_other.pt\"))[\"inputs\"]\n",
    "valid_other = torch.load(os.path.join(dir_path, \"ensemble_valid_other.pt\"))[\"inputs\"]"
   ]
  },
  {
   "cell_type": "code",
   "execution_count": 4,
   "metadata": {},
   "outputs": [],
   "source": [
    "data1 = torch.load(os.path.join(dir_path, \"ensemble_train_inputs_model_1\"))\n",
    "data2 = torch.load(os.path.join(dir_path, \"ensemble_train_inputs_model_2\"))\n",
    "data3 = torch.load(os.path.join(dir_path, \"ensemble_train_inputs_model_3\"))\n",
    "data4 = torch.load(os.path.join(dir_path, \"ensemble_train_inputs_model_4\"))\n",
    "data5 = torch.load(os.path.join(dir_path, \"ensemble_train_inputs_model_5\"))\n",
    "data6 = torch.load(os.path.join(dir_path, \"ensemble_train_inputs_model_6\"))\n",
    "\n",
    "vdata1 = torch.load(os.path.join(dir_path, \"ensemble_valid_inputs_model_1\"))\n",
    "vdata2 = torch.load(os.path.join(dir_path, \"ensemble_valid_inputs_model_2\"))\n",
    "vdata3 = torch.load(os.path.join(dir_path, \"ensemble_valid_inputs_model_3\"))\n",
    "vdata4 = torch.load(os.path.join(dir_path, \"ensemble_valid_inputs_model_4\"))\n",
    "vdata5 = torch.load(os.path.join(dir_path, \"ensemble_valid_inputs_model_5\"))\n",
    "vdata6 = torch.load(os.path.join(dir_path, \"ensemble_valid_inputs_model_6\"))"
   ]
  },
  {
   "cell_type": "code",
   "execution_count": 5,
   "metadata": {},
   "outputs": [],
   "source": [
    "assert torch.all(data1[\"inputs\"][1] == data2[\"inputs\"][1])\n",
    "assert torch.all(data2[\"inputs\"][1] == data3[\"inputs\"][1])\n",
    "assert torch.all(data3[\"inputs\"][1] == data4[\"inputs\"][1])\n",
    "assert torch.all(data4[\"inputs\"][1] == data5[\"inputs\"][1])\n",
    "assert torch.all(data5[\"inputs\"][1] == data6[\"inputs\"][1])\n",
    "\n",
    "assert torch.all(vdata1[\"inputs\"][1] == vdata2[\"inputs\"][1])\n",
    "assert torch.all(vdata2[\"inputs\"][1] == vdata3[\"inputs\"][1])\n",
    "assert torch.all(vdata3[\"inputs\"][1] == vdata4[\"inputs\"][1])\n",
    "assert torch.all(vdata4[\"inputs\"][1] == vdata5[\"inputs\"][1])\n",
    "assert torch.all(vdata5[\"inputs\"][1] == vdata6[\"inputs\"][1])"
   ]
  },
  {
   "cell_type": "code",
   "execution_count": 6,
   "metadata": {},
   "outputs": [],
   "source": [
    "np.random.seed(0)\n",
    "all_scores = []\n",
    "probs, labels = [], []\n",
    "for i in range(5):\n",
    "    d1 = data1[\"inputs\"][0][:,i].unsqueeze(dim=1).numpy()\n",
    "    d2 = data2[\"inputs\"][0][:,i].unsqueeze(dim=1).numpy()\n",
    "    d3 = data3[\"inputs\"][0][:,i].unsqueeze(dim=1).numpy()\n",
    "    d4 = data4[\"inputs\"][0][:,i].unsqueeze(dim=1).numpy()\n",
    "    d5 = data5[\"inputs\"][0][:,i].unsqueeze(dim=1).numpy()\n",
    "    d6 = data6[\"inputs\"][0][:,i].unsqueeze(dim=1).numpy()\n",
    "\n",
    "    vd1 = vdata1[\"inputs\"][0][:,i].unsqueeze(dim=1).numpy()\n",
    "    vd2 = vdata2[\"inputs\"][0][:,i].unsqueeze(dim=1).numpy()\n",
    "    vd3 = vdata3[\"inputs\"][0][:,i].unsqueeze(dim=1).numpy()\n",
    "    vd4 = vdata4[\"inputs\"][0][:,i].unsqueeze(dim=1).numpy()\n",
    "    vd5 = vdata5[\"inputs\"][0][:,i].unsqueeze(dim=1).numpy()\n",
    "    vd6 = vdata6[\"inputs\"][0][:,i].unsqueeze(dim=1).numpy()\n",
    "\n",
    "    X = np.hstack((d1, d2, d3, d4, d5, d6, train_other))\n",
    "    X_valid = np.hstack((vd1, vd2, vd3, vd4, vd5, vd6, valid_other))\n",
    "\n",
    "    y = data1[\"inputs\"][1][:,i].numpy()\n",
    "    y_valid = vdata1[\"inputs\"][1][:,i].numpy()\n",
    "\n",
    "    ridge = RidgeClassifier()\n",
    "    rf = RandomForestClassifier()\n",
    "    lr = LogisticRegression()\n",
    "    svc = SVC(probability=True)\n",
    "    lasso = Lasso()\n",
    "    nb = GaussianNB()\n",
    "\n",
    "    param_grid = {\"alpha\": [0.00001, 0.0001, 0.001, 0.1, 1, 10]}\n",
    "    param_grid_rf = {\"n_estimators\": [10, 50, 100]}\n",
    "    grid = GridSearchCV(lasso, param_grid=param_grid, cv=5)\n",
    "    grid.fit(X, y)\n",
    "    \n",
    "    score_from_ensemble = roc_auc_score(y_valid, grid.predict(X_valid))\n",
    "#     score_from_ensemble = roc_auc_score(y_valid, nb.predict_proba(X_valid)[:,1])\n",
    "    \n",
    "    scores = []\n",
    "    probs.append(grid.predict(X_valid))\n",
    "    labels.append(y_valid)\n",
    "    for i in range(6):\n",
    "        scores.append(roc_auc_score(y_valid, X_valid[:,i]))\n",
    "\n",
    "    score_from_single = max(scores)\n",
    "    \n",
    "    all_scores.append((score_from_single, score_from_ensemble))"
   ]
  },
  {
   "cell_type": "code",
   "execution_count": 7,
   "metadata": {},
   "outputs": [],
   "source": [
    "training_classes = ['Cardiomegaly', 'Edema', 'Consolidation', 'Atelectasis', 'Pleural Effusion']"
   ]
  },
  {
   "cell_type": "code",
   "execution_count": 8,
   "metadata": {},
   "outputs": [
    {
     "name": "stdout",
     "output_type": "stream",
     "text": [
      "AUC for Cardiomegaly        , Single: 0.862, Ensemble: 0.818\n",
      "AUC for Edema               , Single: 0.918, Ensemble: 0.918\n",
      "AUC for Consolidation       , Single: 0.937, Ensemble: 0.886\n",
      "AUC for Atelectasis         , Single: 0.821, Ensemble: 0.817\n",
      "AUC for Pleural Effusion    , Single: 0.933, Ensemble: 0.928\n"
     ]
    }
   ],
   "source": [
    "for i in range(5):\n",
    "    print(\"AUC for {:20}, Single: {:.3f}, Ensemble: {:.3f}\".format(training_classes[i], all_scores[i][0], all_scores[i][1]))"
   ]
  },
  {
   "cell_type": "code",
   "execution_count": 9,
   "metadata": {},
   "outputs": [
    {
     "name": "stdout",
     "output_type": "stream",
     "text": [
      "Ovrall AUC: 0.847\n"
     ]
    }
   ],
   "source": [
    "overall_auc = roc_auc_score(np.array(labels).flatten(), np.array(probs).flatten())\n",
    "print(\"Ovrall AUC: {:.3f}\".format(overall_auc))"
   ]
  },
  {
   "cell_type": "code",
   "execution_count": null,
   "metadata": {},
   "outputs": [],
   "source": []
  }
 ],
 "metadata": {
  "kernelspec": {
   "display_name": "Python 3",
   "language": "python",
   "name": "python3"
  },
  "language_info": {
   "codemirror_mode": {
    "name": "ipython",
    "version": 3
   },
   "file_extension": ".py",
   "mimetype": "text/x-python",
   "name": "python",
   "nbconvert_exporter": "python",
   "pygments_lexer": "ipython3",
   "version": "3.7.3"
  }
 },
 "nbformat": 4,
 "nbformat_minor": 2
}

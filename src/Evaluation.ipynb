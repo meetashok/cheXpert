{
 "cells": [
  {
   "cell_type": "code",
   "execution_count": null,
   "metadata": {},
   "outputs": [],
   "source": [
    "import torch\n",
    "import os\n",
    "import numpy as np\n",
    "from sklearn.metrics import roc_auc_score, accuracy_score, roc_curve, auc\n",
    "import torch.nn as nn\n",
    "from dataloader import evaluate_singlemodel, ChestImages, device\n",
    "from config import P, paths\n",
    "from torch.utils.data import DataLoader\n",
    "from models import ResNet18\n",
    "\n",
    "import matplotlib.pyplot as plt\n",
    "import math\n",
    "import sys"
   ]
  },
  {
   "cell_type": "code",
   "execution_count": null,
   "metadata": {},
   "outputs": [],
   "source": [
    "def plot_auc(axes, probs, labels, class_names):\n",
    "    for i in range(len(class_names) + 1):\n",
    "        ax = axes.flatten()[i]\n",
    "        if i == len(class_names):\n",
    "            fpr, tpr, threshold = roc_curve(labels.flatten(), probs.flatten())\n",
    "            title = \"ROC for {}\".format(\"Overall\")\n",
    "        else:\n",
    "            fpr, tpr, threshold = roc_curve(labels[:,i], probs[:,i])\n",
    "            title = \"ROC for {}\".format(class_names[i])\n",
    "\n",
    "        roc_auc = auc(fpr, tpr)\n",
    "\n",
    "        ax.set_title(title)\n",
    "        ax.plot(fpr, tpr, label = \"{}: AUC = {:.3f}\".format(model._get_name(), roc_auc))\n",
    "        ax.legend(loc = 'lower right')\n",
    "        ax.plot([0, 1], [0, 1],'r--')\n",
    "        ax.set_xlim([0, 1])\n",
    "        ax.set_ylim([0, 1])\n",
    "        if (i == 0) or (i == 3):\n",
    "            ax.set_ylabel('True Positive Rate')\n",
    "        if i >= 3:\n",
    "            ax.set_xlabel('False Positive Rate')"
   ]
  },
  {
   "cell_type": "code",
   "execution_count": null,
   "metadata": {},
   "outputs": [],
   "source": [
    "def get_prob_labels(path):\n",
    "    criterion = nn.BCEWithLogitsLoss()\n",
    "    \n",
    "    all_probs = []\n",
    "    for file in os.listdir(path):\n",
    "        print(file)\n",
    "        checkpoint = torch.load(os.path.join(path, file), map_location=device)\n",
    "        class_names = checkpoint[\"classes\"]\n",
    "        model = ResNet18(out_size=len(class_names))\n",
    "        model.load_state_dict(checkpoint[\"model_state_dict\"])\n",
    "        _ = model.to(device)\n",
    "        probs, labels, loss = evaluate_singlemodel(model, criterion, dataloaders[\"valid\"])\n",
    "        probs = torch.cat(probs).numpy()\n",
    "        \n",
    "\n",
    "        all_probs += [probs]\n",
    "    probs_mean = np.mean(np.stack(all_probs), axis=0)\n",
    "    \n",
    "    \n",
    "    labels = torch.cat(labels).numpy()\n",
    "    \n",
    "    return labels, probs_mean, class_names"
   ]
  },
  {
   "cell_type": "code",
   "execution_count": 7,
   "metadata": {},
   "outputs": [
    {
     "name": "stdout",
     "output_type": "stream",
     "text": [
      "ResNet18_ignore_all_2019.12.07.16.49.53\n"
     ]
    }
   ],
   "source": [
    "if os.name == \"nt\":\n",
    "    dir_path = \"C://Users/Ashok/Documents/MS/models/\"\n",
    "else:\n",
    "    dir_path = \"/Users/ashok/Downloads/Chexpert/models/\"\n",
    "\n",
    "folders = [folder for folder in os.listdir(dir_path) if folder[0] != \".\" and \"ignore\" in folder and \"all\" in folder]\n",
    "\n",
    "for folder in folders:\n",
    "    print(folder)"
   ]
  },
  {
   "cell_type": "code",
   "execution_count": 8,
   "metadata": {},
   "outputs": [
    {
     "data": {
      "text/plain": [
       "True"
      ]
     },
     "execution_count": 8,
     "metadata": {},
     "output_type": "execute_result"
    }
   ],
   "source": [
    "\"all\" in folder"
   ]
  },
  {
   "cell_type": "code",
   "execution_count": null,
   "metadata": {},
   "outputs": [],
   "source": []
  },
  {
   "cell_type": "code",
   "execution_count": 11,
   "metadata": {},
   "outputs": [
    {
     "name": "stdout",
     "output_type": "stream",
     "text": [
      "ResNet18_ignore_all_2019.12.07.16.49.53\n",
      "epoch1_itr1700.pt\n",
      "epoch1_itr2700.pt\n",
      "epoch1_itr2800.pt\n",
      "epoch1_itr2900.pt\n",
      "epoch1_itr3300.pt\n",
      "epoch2_itr1400.pt\n",
      "epoch2_itr1500.pt\n",
      "epoch2_itr1600.pt\n",
      "epoch2_itr2000.pt\n",
      "epoch2_itr3400.pt\n",
      "AUC for No Finding                     = 0.897\n",
      "AUC for Enlarged Cardiomediastinum     = 0.598\n",
      "AUC for Cardiomegaly                   = 0.842\n",
      "AUC for Lung Opacity                   = 0.920\n",
      "AUC for Lung Lesion                    = 0.189\n",
      "AUC for Edema                          = 0.910\n",
      "AUC for Consolidation                  = 0.936\n",
      "AUC for Pneumonia                      = 0.727\n",
      "AUC for Atelectasis                    = 0.798\n",
      "AUC for Pneumothorax                   = 0.850\n",
      "AUC for Pleural Effusion               = 0.935\n",
      "AUC for Pleural Other                  = 0.888\n",
      "AUC for Fracture                       = 1.000\n",
      "AUC for Support Devices                = 0.936\n",
      "AUC for Overall                        = 0.870\n",
      "AUC for Key pathologies                = 0.854\n",
      "----------------------------------------\n"
     ]
    }
   ],
   "source": [
    "for folder in folders:\n",
    "    print(folder)\n",
    "    \n",
    "    if \"all\" in folder:\n",
    "        classes_type = \"all\"\n",
    "    else:\n",
    "        classes_type = \"subset\"\n",
    "        \n",
    "    if \"all\" in folder:\n",
    "        P.training_classes = ['No Finding', 'Enlarged Cardiomediastinum', 'Cardiomegaly', \n",
    "               'Lung Opacity', 'Lung Lesion', 'Edema', 'Consolidation', \n",
    "               'Pneumonia', 'Atelectasis', 'Pneumothorax', 'Pleural Effusion', \n",
    "               'Pleural Other', 'Fracture', 'Support Devices']\n",
    "    else:\n",
    "        P.training_classes = ['Cardiomegaly', 'Edema', 'Consolidation', 'Atelectasis', 'Pleural Effusion']\n",
    "\n",
    "    train_data = ChestImages(paths[os.name][P.dataset][\"train_location\"], \n",
    "            paths[os.name][P.dataset][\"dirpath\"], \n",
    "            P, frac=1.0, classes_type=classes_type)\n",
    "\n",
    "    valid_data = ChestImages(paths[os.name][P.dataset][\"valid_location\"], \n",
    "        paths[os.name][P.dataset][\"dirpath\"], \n",
    "        P,\n",
    "        frac=1.0, classes_type=classes_type)\n",
    "\n",
    "    dataloaders = {\n",
    "        \"train\": DataLoader(train_data, \n",
    "            batch_size=P.batch_size, \n",
    "            shuffle=False, \n",
    "            num_workers=P.num_workers),\n",
    "\n",
    "        \"valid\": DataLoader(valid_data, \n",
    "            batch_size=P.batch_size, \n",
    "            shuffle=False, \n",
    "            num_workers=P.num_workers)\n",
    "    }\n",
    "    labels, probs, class_names = get_prob_labels(os.path.join(dir_path, folder))\n",
    "    training_classes = ['Cardiomegaly', 'Edema', 'Consolidation', 'Atelectasis', 'Pleural Effusion']\n",
    "\n",
    "    keys = (2, 5, 6, 8, 10)\n",
    "#     for key in keys:\n",
    "#         assert class_names[key] in training_classes\n",
    "\n",
    "    for i in range(len(class_names)):\n",
    "        class_labels, class_probs = labels[:,i], probs[:,i]\n",
    "        if len(np.unique(class_labels)) == 1: # bug in roc_auc_score\n",
    "            auc = accuracy_score(class_labels, np.rint(class_probs))\n",
    "        else:\n",
    "            auc = roc_auc_score(class_labels, class_probs)\n",
    "        print(\"AUC for {:30} = {:.3f}\".format(class_names[i], auc))\n",
    "\n",
    "    overall_auc = roc_auc_score(labels.flatten(), probs.flatten())\n",
    "    print(\"AUC for {:30} = {:.3f}\".format(\"Overall\", overall_auc))\n",
    "    if P.classes_type == \"all\":\n",
    "        keyclasses_auc = roc_auc_score(labels[:,keys].flatten(), probs[:, keys].flatten())\n",
    "        print(\"AUC for {:30} = {:.3f}\".format(\"Key pathologies\", keyclasses_auc))\n",
    "    print(\"-\"*40)"
   ]
  },
  {
   "cell_type": "code",
   "execution_count": null,
   "metadata": {},
   "outputs": [],
   "source": []
  },
  {
   "cell_type": "code",
   "execution_count": null,
   "metadata": {},
   "outputs": [],
   "source": []
  },
  {
   "cell_type": "code",
   "execution_count": null,
   "metadata": {},
   "outputs": [],
   "source": [
    "f, axes = plt.subplots(2, 3, figsize=(18,10))\n",
    "plot_auc(axes, probs, labels, class_names)"
   ]
  },
  {
   "cell_type": "code",
   "execution_count": null,
   "metadata": {},
   "outputs": [],
   "source": [
    "P.dataset"
   ]
  },
  {
   "cell_type": "code",
   "execution_count": null,
   "metadata": {},
   "outputs": [],
   "source": [
    "for data in dataloaders[\"valid\"]:\n",
    "    inputs, labels = data[\"image\"], data[\"targets\"]\n",
    "    break"
   ]
  },
  {
   "cell_type": "code",
   "execution_count": null,
   "metadata": {},
   "outputs": [],
   "source": [
    "inputs.shape"
   ]
  },
  {
   "cell_type": "code",
   "execution_count": null,
   "metadata": {},
   "outputs": [],
   "source": [
    "labels.shape"
   ]
  },
  {
   "cell_type": "code",
   "execution_count": null,
   "metadata": {},
   "outputs": [],
   "source": []
  }
 ],
 "metadata": {
  "kernelspec": {
   "display_name": "Python 3",
   "language": "python",
   "name": "python3"
  },
  "language_info": {
   "codemirror_mode": {
    "name": "ipython",
    "version": 3
   },
   "file_extension": ".py",
   "mimetype": "text/x-python",
   "name": "python",
   "nbconvert_exporter": "python",
   "pygments_lexer": "ipython3",
   "version": "3.7.3"
  }
 },
 "nbformat": 4,
 "nbformat_minor": 2
}
